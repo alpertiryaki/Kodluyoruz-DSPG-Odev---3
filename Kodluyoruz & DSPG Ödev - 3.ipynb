{
 "cells": [
  {
   "cell_type": "code",
   "execution_count": 3,
   "metadata": {},
   "outputs": [],
   "source": [
    "l = [ [\"a\", \"b\"] , [\"a\", \"c\", \"d\"] , \"a\" , [\"b\", \"d\"] ]"
   ]
  },
  {
   "cell_type": "code",
   "execution_count": 4,
   "metadata": {},
   "outputs": [],
   "source": [
    "def counter(x):\n",
    "    d = {}\n",
    "    for e in x:\n",
    "        for i in e:\n",
    "        \n",
    "            if i not in d:\n",
    "                d[i] = 1\n",
    "        \n",
    "            else:\n",
    "                d[i] += 1\n",
    "            \n",
    "    return d"
   ]
  },
  {
   "cell_type": "code",
   "execution_count": 5,
   "metadata": {},
   "outputs": [
    {
     "data": {
      "text/plain": [
       "{'a': 3, 'b': 2, 'c': 1, 'd': 2}"
      ]
     },
     "execution_count": 5,
     "metadata": {},
     "output_type": "execute_result"
    }
   ],
   "source": [
    "counter(l)"
   ]
  },
  {
   "cell_type": "markdown",
   "metadata": {},
   "source": [
    " "
   ]
  },
  {
   "cell_type": "markdown",
   "metadata": {},
   "source": [
    "# Ek Çalışma"
   ]
  },
  {
   "cell_type": "code",
   "execution_count": 6,
   "metadata": {},
   "outputs": [],
   "source": [
    "# Eğer liste içindeki string değerler birden fazla karakter içeriyor olsaydı bu fonksiyon yanıltıcı olacaktı."
   ]
  },
  {
   "cell_type": "code",
   "execution_count": 7,
   "metadata": {},
   "outputs": [],
   "source": [
    "a = [ [\"ali\",\"ayşe\"],\"ali\", [\"leyla\", \"ayşe\"], [\"tarık\",\"ali\"], \"leyla\" ]"
   ]
  },
  {
   "cell_type": "code",
   "execution_count": 8,
   "metadata": {},
   "outputs": [
    {
     "data": {
      "text/plain": [
       "{'ali': 2,\n",
       " 'ayşe': 2,\n",
       " 'a': 2,\n",
       " 'l': 3,\n",
       " 'i': 1,\n",
       " 'leyla': 1,\n",
       " 'tarık': 1,\n",
       " 'e': 1,\n",
       " 'y': 1}"
      ]
     },
     "execution_count": 8,
     "metadata": {},
     "output_type": "execute_result"
    }
   ],
   "source": [
    "counter(a)"
   ]
  },
  {
   "cell_type": "code",
   "execution_count": 9,
   "metadata": {},
   "outputs": [],
   "source": [
    "# Bu sorunun önüne geçmek için;\n",
    "\n",
    "def counter(x):\n",
    "    d = {}\n",
    "    for e in x:\n",
    "        \n",
    "        if type(e) == list or type(e) == dict:\n",
    "            \n",
    "            \n",
    "        \n",
    "            for i in e:\n",
    "        \n",
    "                if i not in d:\n",
    "                    d[i] = 1\n",
    "        \n",
    "                else:\n",
    "                    d[i] += 1\n",
    "            \n",
    "        else:\n",
    "            if e not in d:\n",
    "                d[e] = 1\n",
    "            \n",
    "            else:\n",
    "                d[e] += 1\n",
    "            \n",
    "                \n",
    "    return d"
   ]
  },
  {
   "cell_type": "code",
   "execution_count": 10,
   "metadata": {},
   "outputs": [
    {
     "data": {
      "text/plain": [
       "{'ali': 3, 'ayşe': 2, 'leyla': 2, 'tarık': 1}"
      ]
     },
     "execution_count": 10,
     "metadata": {},
     "output_type": "execute_result"
    }
   ],
   "source": [
    "counter(a)"
   ]
  },
  {
   "cell_type": "code",
   "execution_count": null,
   "metadata": {},
   "outputs": [],
   "source": []
  }
 ],
 "metadata": {
  "kernelspec": {
   "display_name": "Python 3",
   "language": "python",
   "name": "python3"
  },
  "language_info": {
   "codemirror_mode": {
    "name": "ipython",
    "version": 3
   },
   "file_extension": ".py",
   "mimetype": "text/x-python",
   "name": "python",
   "nbconvert_exporter": "python",
   "pygments_lexer": "ipython3",
   "version": "3.7.4"
  }
 },
 "nbformat": 4,
 "nbformat_minor": 2
}
